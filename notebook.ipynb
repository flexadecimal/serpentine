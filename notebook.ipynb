{
 "cells": [
  {
   "cell_type": "code",
   "execution_count": 23,
   "source": [
    "from core.entity.Xdf import Xdf\n",
    "import os, sys\n",
    "import numpy as np\n",
    "# jupyter specific stuff\n",
    "import matplotlib.pyplot as plot\n",
    "\n",
    "xdf_path = os.path.abspath('./cars/testing/volvo-motronic44-test/rev5b.xdf')\n",
    "bin_path = os.path.abspath('./cars/testing/volvo-motronic44-test/607_rev5b.bin')\n",
    "tune = Xdf.from_path(xdf_path, bin_path)"
   ],
   "outputs": [],
   "metadata": {}
  },
  {
   "cell_type": "code",
   "execution_count": 31,
   "source": [
    "%matplotlib widget\n",
    "ignition_map = tune.Tables[0]\n",
    "plot.ion()\n",
    "fig = plot.figure()\n",
    "\n",
    "#np.savetxt(sys.stdout, ignition_map.Axes['x'].value, fmt='%.4f')\n",
    "#np.savetxt(sys.stdout, ignition_map.Axes['y'].value, fmt='%.4f')\n",
    "np.savetxt(sys.stdout, ignition_map.Axes['z'].value, fmt='%.1f')\n",
    "\n",
    "axis = plot.axes(projection='3d')\n",
    "axis.plot_surface(\n",
    "  ignition_map.Axes['x'].value, \n",
    "  ignition_map.Axes['y'].value,\n",
    "  ignition_map.Axes['z'].value,\n",
    "  cmap='RdYlBu'\n",
    ")\n",
    "plot.show()"
   ],
   "outputs": [
    {
     "output_type": "display_data",
     "data": {
      "text/plain": [
       "Canvas(toolbar=Toolbar(toolitems=[('Home', 'Reset original view', 'home', 'home'), ('Back', 'Back to previous …"
      ],
      "application/vnd.jupyter.widget-view+json": {
       "version_major": 2,
       "version_minor": 0,
       "model_id": "502aa51241964665bb499e8575636288"
      }
     },
     "metadata": {}
    },
    {
     "output_type": "stream",
     "name": "stdout",
     "text": [
      "4.5 4.5 6.0 7.5 8.2 7.5 6.8 3.8 2.2 2.2 2.2 2.2 2.2 2.2 2.2 2.2\n",
      "5.2 5.2 7.5 9.0 9.8 9.0 7.5 4.5 3.0 3.0 3.0 3.0 3.0 3.0 3.0 3.0\n",
      "5.2 5.2 9.8 13.5 15.8 14.2 8.2 7.5 3.0 3.0 3.0 3.0 3.0 3.0 3.0 3.0\n",
      "5.2 5.2 11.2 15.8 21.8 21.0 14.2 12.8 7.5 4.5 4.5 4.5 4.5 4.5 4.5 4.5\n",
      "6.8 6.8 12.8 17.2 23.2 22.5 18.0 15.8 12.8 10.5 7.5 7.5 7.5 7.5 7.5 7.5\n",
      "8.2 10.5 14.2 20.2 24.8 24.0 19.5 18.8 18.0 15.8 12.8 9.8 9.8 9.8 9.8 9.8\n",
      "9.8 12.8 24.8 24.8 26.2 25.5 21.8 18.8 18.0 17.2 14.2 10.5 8.2 8.2 8.2 8.2\n",
      "13.5 15.8 37.5 33.0 27.0 27.0 24.8 22.5 18.8 16.5 14.2 13.5 12.8 12.0 10.5 10.5\n",
      "15.8 18.0 37.5 32.2 27.8 27.8 25.5 24.0 20.2 17.2 14.2 13.5 12.8 14.2 14.2 12.8\n",
      "16.5 22.5 36.0 32.2 29.2 28.5 27.8 26.2 21.8 19.5 18.0 16.5 15.0 14.2 13.5 12.0\n",
      "18.0 27.0 35.2 33.8 33.0 33.0 33.8 30.8 24.8 20.2 18.0 15.8 13.5 15.8 15.8 13.5\n",
      "19.5 30.0 35.2 35.2 34.5 33.8 33.8 30.0 22.5 21.0 19.5 17.2 16.5 15.0 15.0 12.0\n",
      "21.0 32.2 36.8 36.0 35.2 34.5 30.0 25.5 21.8 19.5 18.0 16.5 15.8 15.8 15.8 15.8\n",
      "23.2 33.0 38.2 36.8 36.0 36.0 34.5 33.0 30.8 27.8 27.0 25.5 24.8 21.0 21.0 21.0\n",
      "26.2 34.5 38.2 36.8 37.5 37.5 37.5 33.8 32.2 29.2 28.5 27.8 27.8 27.8 24.0 24.0\n",
      "26.2 34.5 38.2 36.8 37.5 37.5 37.5 33.8 32.2 29.2 28.5 27.8 29.2 27.8 24.0 24.0\n"
     ]
    }
   ],
   "metadata": {}
  }
 ],
 "metadata": {
  "kernelspec": {
   "name": "python3",
   "display_name": "Python 3.9.1 64-bit ('venv': venv)"
  },
  "language_info": {
   "codemirror_mode": {
    "name": "ipython",
    "version": 3
   },
   "file_extension": ".py",
   "mimetype": "text/x-python",
   "name": "python",
   "nbconvert_exporter": "python",
   "pygments_lexer": "ipython3",
   "version": "3.9.1"
  },
  "interpreter": {
   "hash": "7906e84eb6309a091a7e16d172a09d91d742cc4d6e39ff1cc8ed31e5932ee44c"
  }
 },
 "nbformat": 4,
 "nbformat_minor": 2
}